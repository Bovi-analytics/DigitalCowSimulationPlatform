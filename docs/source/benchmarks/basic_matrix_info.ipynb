{
 "cells": [
  {
   "cell_type": "code",
   "execution_count": 9,
   "metadata": {
    "collapsed": true,
    "ExecuteTime": {
     "end_time": "2023-06-26T13:52:20.202887300Z",
     "start_time": "2023-06-26T13:52:20.189452800Z"
    }
   },
   "outputs": [],
   "source": [
    "from pandas import read_parquet"
   ]
  },
  {
   "cell_type": "code",
   "execution_count": 10,
   "outputs": [
    {
     "data": {
      "text/plain": "                        name  axis_size    total_cells  nonzero_count  \\\n0        random_matrix_large    1000000  1000000000000        1000000   \n1       random_matrix_medium     100000    10000000000         100000   \n2        random_matrix_small      10000      100000000          10000   \n3         random_matrix_tiny       1000        1000000            100   \n4  transition_matrix_acyclic     293081    85896472561         810301   \n5   transition_matrix_cyclic     293081    85896472561         810301   \n\n    density  size_as_dense   size_kbytes   size_mbytes  size_gbytes  \\\n0  0.000100  8000000000000  7.812500e+09  7.629395e+06  7450.580597   \n1  0.001000    80000000000  7.812500e+07  7.629395e+04    74.505806   \n2  0.010000      800000000  7.812500e+05  7.629395e+02     0.745058   \n3  0.010000        8000000  7.812500e+03  7.629395e+00     0.007451   \n4  0.000943   687171780488  6.710662e+08  6.553381e+05   639.978592   \n5  0.000943   687171780488  6.710662e+08  6.553381e+05   639.978592   \n\n   size_tbytes  \n0     7.275958  \n1     0.072760  \n2     0.000728  \n3     0.000007  \n4     0.624979  \n5     0.624979  ",
      "text/html": "<div>\n<style scoped>\n    .dataframe tbody tr th:only-of-type {\n        vertical-align: middle;\n    }\n\n    .dataframe tbody tr th {\n        vertical-align: top;\n    }\n\n    .dataframe thead th {\n        text-align: right;\n    }\n</style>\n<table border=\"1\" class=\"dataframe\">\n  <thead>\n    <tr style=\"text-align: right;\">\n      <th></th>\n      <th>name</th>\n      <th>axis_size</th>\n      <th>total_cells</th>\n      <th>nonzero_count</th>\n      <th>density</th>\n      <th>size_as_dense</th>\n      <th>size_kbytes</th>\n      <th>size_mbytes</th>\n      <th>size_gbytes</th>\n      <th>size_tbytes</th>\n    </tr>\n  </thead>\n  <tbody>\n    <tr>\n      <th>0</th>\n      <td>random_matrix_large</td>\n      <td>1000000</td>\n      <td>1000000000000</td>\n      <td>1000000</td>\n      <td>0.000100</td>\n      <td>8000000000000</td>\n      <td>7.812500e+09</td>\n      <td>7.629395e+06</td>\n      <td>7450.580597</td>\n      <td>7.275958</td>\n    </tr>\n    <tr>\n      <th>1</th>\n      <td>random_matrix_medium</td>\n      <td>100000</td>\n      <td>10000000000</td>\n      <td>100000</td>\n      <td>0.001000</td>\n      <td>80000000000</td>\n      <td>7.812500e+07</td>\n      <td>7.629395e+04</td>\n      <td>74.505806</td>\n      <td>0.072760</td>\n    </tr>\n    <tr>\n      <th>2</th>\n      <td>random_matrix_small</td>\n      <td>10000</td>\n      <td>100000000</td>\n      <td>10000</td>\n      <td>0.010000</td>\n      <td>800000000</td>\n      <td>7.812500e+05</td>\n      <td>7.629395e+02</td>\n      <td>0.745058</td>\n      <td>0.000728</td>\n    </tr>\n    <tr>\n      <th>3</th>\n      <td>random_matrix_tiny</td>\n      <td>1000</td>\n      <td>1000000</td>\n      <td>100</td>\n      <td>0.010000</td>\n      <td>8000000</td>\n      <td>7.812500e+03</td>\n      <td>7.629395e+00</td>\n      <td>0.007451</td>\n      <td>0.000007</td>\n    </tr>\n    <tr>\n      <th>4</th>\n      <td>transition_matrix_acyclic</td>\n      <td>293081</td>\n      <td>85896472561</td>\n      <td>810301</td>\n      <td>0.000943</td>\n      <td>687171780488</td>\n      <td>6.710662e+08</td>\n      <td>6.553381e+05</td>\n      <td>639.978592</td>\n      <td>0.624979</td>\n    </tr>\n    <tr>\n      <th>5</th>\n      <td>transition_matrix_cyclic</td>\n      <td>293081</td>\n      <td>85896472561</td>\n      <td>810301</td>\n      <td>0.000943</td>\n      <td>687171780488</td>\n      <td>6.710662e+08</td>\n      <td>6.553381e+05</td>\n      <td>639.978592</td>\n      <td>0.624979</td>\n    </tr>\n  </tbody>\n</table>\n</div>"
     },
     "execution_count": 10,
     "metadata": {},
     "output_type": "execute_result"
    }
   ],
   "source": [
    "info = read_parquet(\"data/basic_matrix_info/basic_matrix_info.parquet\")\n",
    "info[\"size_kbytes\"] = info[\"size_as_dense\"] / 1024\n",
    "info[\"size_mbytes\"] = info[\"size_kbytes\"] / 1024\n",
    "info[\"size_gbytes\"] = info[\"size_mbytes\"] / 1024\n",
    "info[\"size_tbytes\"] = info[\"size_gbytes\"] / 1024\n",
    "info"
   ],
   "metadata": {
    "collapsed": false,
    "ExecuteTime": {
     "end_time": "2023-06-26T13:52:21.966394Z",
     "start_time": "2023-06-26T13:52:21.937999700Z"
    }
   }
  }
 ],
 "metadata": {
  "kernelspec": {
   "display_name": "Python 3",
   "language": "python",
   "name": "python3"
  },
  "language_info": {
   "codemirror_mode": {
    "name": "ipython",
    "version": 2
   },
   "file_extension": ".py",
   "mimetype": "text/x-python",
   "name": "python",
   "nbconvert_exporter": "python",
   "pygments_lexer": "ipython2",
   "version": "2.7.6"
  }
 },
 "nbformat": 4,
 "nbformat_minor": 0
}
